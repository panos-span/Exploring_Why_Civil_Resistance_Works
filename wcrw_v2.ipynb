{
 "cells": [
  {
   "cell_type": "markdown",
   "source": [
    "# Exploring Why Civil Resistance Works\n",
    "\n",
    "In this assignment, you will replicate some of the findings of a well-received book, [Why Civil Resistance Works](https://www.ericachenoweth.com/research/wcrw) by [Erica Chenoweth](https://www.ericachenoweth.com/) and Maria J. Stephan. The two authors examined whether nonviolent campaigns are more effective than violent campaigns. They found that yes; from a data set containing details of campaigns from 1900 onwards, they found that in general peaceful campaigns are more effective in achieving their aims than violent ones.\n",
    "\n",
    "Following the initial publication of the book in 2011, Erica Chenoweth continued her research on the topic and published a follow-up ten years later, [Civil Resistance: What Everyone Needs to Know](https://www.ericachenoweth.com/research/civil-resistance-what-everyone-needs-to-know). She has also continued to update the data used for her research.\n",
    "\n",
    "The research became famous for propising the 3.5% rule: \"the claim that no government has withstood a challenge of 3.5% of their population mobilized against it during a peak event\"; you can find a nice overview at [Questions, Answers, and Some Cautionary\n",
    "Updates Regarding the 3.5% Rule](https://carrcenter.hks.harvard.edu/files/cchr/files/CCDP_005.pdf). Among other things, you will investigate that rule.\n",
    "\n",
    "To answer the questions, you will use that data, the [Nonviolent and Violent Campaigns and Outcomes (NAVCO) Dataset](https://dataverse.harvard.edu/dataverse/navco), and in particular the [NAVCO 1.2 Dataset](https://dataverse.harvard.edu/dataset.xhtml?persistentId=doi:10.7910/DVN/0UZOTX). You will also use data from the [Polity Project](https://www.systemicpeace.org/polityproject.html), in particular the Polity5 version, available from [Integrated Network for Societal Conflict Research (INSCR) ](https://www.systemicpeace.org/inscrdata.html), in particular the [Polity5 Annual Time-Series, 1946-2018](http://www.systemicpeace.org/inscr/p5v2018.xls).\n",
    "\n",
    "---\n",
    "\n",
    "> Panos Louridas, Associate Professor <br />\n",
    "> Department of Management Science and Technology <br />\n",
    "> Athens University of Economics and Business <br />\n",
    "> louridas@aueb.gr"
   ],
   "metadata": {
    "collapsed": false
   }
  },
  {
   "cell_type": "markdown",
   "metadata": {},
   "source": [
    "## 1. Exploration of Historical Trends\n",
    "\n",
    "Create a plot showing the frequency of nonviolent and violent campaigns; the frequency should be counted based on their end years, at decades. The violent and nonviolent campaign counts should be stacked on each other.\n",
    "\n",
    "Your plot should look like the following:\n",
    "\n",
    "<img src=\"fig_1.svg\"/>"
   ]
  },
  {
   "cell_type": "markdown",
   "metadata": {},
   "source": [
    "Create a plot showing, for each decade from 1940 onwards, the number of nonviolent campaigns and the percentage of success. Your plot will have two vertical axes, one for each of the metrics, and it should look like this:\n",
    "\n",
    "<img src=\"fig_2.svg\"/>"
   ]
  },
  {
   "cell_type": "markdown",
   "metadata": {},
   "source": [
    "Create a plot showing the success rate for violent and nonviolent campaigns by decade. Your plot should look like the following, showing that nonviolent campaigns have higher success probabilities:\n",
    "\n",
    "<img src=\"fig_3.svg\"/>"
   ]
  },
  {
   "cell_type": "markdown",
   "metadata": {},
   "source": [
    "## 2. Largest Resistance Campaigns, 1946-2014\n",
    "\n",
    "Create a horizontal bar plot with the resistance campaigns, for all years, with a percentage of participation at least 2.0%. The plot should look like the one below.\n",
    "\n",
    "Investigate, outside the largest resistance campaigns, if you can find anything about Greece.\n",
    "\n",
    "<img src='participation_2pct.svg'>"
   ]
  },
  {
   "cell_type": "markdown",
   "metadata": {},
   "source": [
    "## 3. The Effect of Participation on the Probability of Campaign Success\n",
    "\n",
    "Examine the effect of participation on the probability of campaign success. You should run a logistic regression for success on membership per capita, controlling for the location’s logged population the year the campaign ends. Explain your results.\n",
    "\n",
    "Having done that, create a scatter plot showing the logged participants per capita, on the $x$ axis, and the probability of success, on the $y$ axis. Your plot should look like the following; explain it as best you can.\n",
    "\n",
    "<img src=\"fig_4.svg\" />\n",
    "\n",
    "Then, do the same but with only the membership per capital as dependent variable. Your plot should look like this (explain why is this different than the previous one):\n",
    "\n",
    "<img src=\"fig_5.svg\" />"
   ]
  },
  {
   "cell_type": "markdown",
   "metadata": {},
   "source": [
    "## 4. The Level of Participation Tipping Point\n",
    "\n",
    "As we mentioned above, a famous output of the research is the 3.5% rule regarding the population participation in a campaign and the probability of success.\n",
    "\n",
    "Based on your data, create a table like the one below and explain how Chenoweth came up with the rule."
   ]
  },
  {
   "cell_type": "markdown",
   "metadata": {},
   "source": [
    "<table>\n",
    "<thead>\n",
    "<tr><th>Peak Popular Participation (%)  </th><th style=\"text-align: right;\">  Observations</th><th>Success Rate  </th></tr>\n",
    "</thead>\n",
    "<tbody>\n",
    "<tr><td>greater than 3.5%               </td><td style=\"text-align: right;\">            18</td><td>88.89%        </td></tr>\n",
    "<tr><td>1.0% - 3.5%                     </td><td style=\"text-align: right;\">            41</td><td>60.98%        </td></tr>\n",
    "<tr><td>0.25% - 1.0%                    </td><td style=\"text-align: right;\">            92</td><td>45.65%        </td></tr>\n",
    "<tr><td>0.06% - 0.25%                   </td><td style=\"text-align: right;\">            95</td><td>45.26%        </td></tr>\n",
    "<tr><td>0.015% - 0.06%                  </td><td style=\"text-align: right;\">            66</td><td>24.24%        </td></tr>\n",
    "<tr><td>0.0035% - 0.015%                </td><td style=\"text-align: right;\">            44</td><td>9.09%         </td></tr>\n",
    "<tr><td>less than 0.0035%               </td><td style=\"text-align: right;\">            24</td><td>4.17%         </td></tr>\n",
    "</tbody>\n",
    "</table>"
   ]
  },
  {
   "cell_type": "markdown",
   "metadata": {},
   "source": [
    "Apart from the way Chenoweth came up with the rule, we can derive it in more statistically-based way.  From the results you obtained in the previous question, find the percentage of the population that is the tipping point for success in a campaign with 99% probability."
   ]
  },
  {
   "cell_type": "markdown",
   "metadata": {},
   "source": [
    "## 5. Nonviolent Resistance and Target Regime Type\n",
    "\n",
    "Examine whether nonviolent resistance remains significant even if we control for the regime type. Run a logistic regression of success on the nonviolence indicator controlling for the Polity V score of campaign target, the log of participation, and the location’s logged population the year the campaign ends.\n"
   ]
  },
  {
   "cell_type": "markdown",
   "metadata": {},
   "source": [
    "## Honor Code\n",
    "\n",
    "You understand that this is an individual assignment, and as such you must carry it out alone. You may seek help on the Internet, on ChatGPT, Bard, or Bing, by Googling or searching in StackOverflow for general questions pertaining to the use of Python and pandas libraries and idioms. However, it is not right to ask direct questions that relate to the assignment and where people will actually solve your problem by answering them. You may discuss with your fellow students in order to better understand the questions, if they are not clear enough, but you should not ask them to share their answers with you, or to help you by giving specific advice."
   ]
  }
 ],
 "metadata": {
  "kernelspec": {
   "display_name": "Python 3 (ipykernel)",
   "language": "python",
   "name": "python3"
  },
  "language_info": {
   "codemirror_mode": {
    "name": "ipython",
    "version": 3
   },
   "file_extension": ".py",
   "mimetype": "text/x-python",
   "name": "python",
   "nbconvert_exporter": "python",
   "pygments_lexer": "ipython3",
   "version": "3.11.6"
  }
 },
 "nbformat": 4,
 "nbformat_minor": 4
}
